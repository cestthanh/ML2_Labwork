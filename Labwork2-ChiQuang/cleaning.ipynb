{
 "cells": [
  {
   "cell_type": "code",
   "execution_count": 36,
   "id": "3a18f001",
   "metadata": {},
   "outputs": [],
   "source": [
    "import pandas as pd\n"
   ]
  },
  {
   "cell_type": "markdown",
   "id": "3a225f6d",
   "metadata": {},
   "source": [
    "📌 1. Cleaning data là gì?\n",
    "Là bước làm sạch dữ liệu gốc để đảm bảo rằng các giá trị đầu vào:\n",
    "\n",
    "Không bị thiếu (missing/null).\n",
    "\n",
    "Không sai kiểu (data type mismatch).\n",
    "\n",
    "Không có giá trị bất thường (extreme outliers).\n",
    "\n",
    "Không bị trùng lặp (duplicates).\n",
    "\n",
    "Các cột được đặt tên đúng và không bị split hoặc gộp lỗi."
   ]
  },
  {
   "cell_type": "code",
   "execution_count": 37,
   "id": "1cf065fa",
   "metadata": {},
   "outputs": [
    {
     "name": "stdout",
     "output_type": "stream",
     "text": [
      "<class 'pandas.core.frame.DataFrame'>\n",
      "RangeIndex: 3150 entries, 0 to 3149\n",
      "Data columns (total 14 columns):\n",
      " #   Column                   Non-Null Count  Dtype  \n",
      "---  ------                   --------------  -----  \n",
      " 0   Call  Failure            3150 non-null   int64  \n",
      " 1   Complains                3150 non-null   int64  \n",
      " 2   Subscription  Length     3150 non-null   int64  \n",
      " 3   Charge  Amount           3150 non-null   int64  \n",
      " 4   Seconds of Use           3150 non-null   int64  \n",
      " 5   Frequency of use         3150 non-null   int64  \n",
      " 6   Frequency of SMS         3150 non-null   int64  \n",
      " 7   Distinct Called Numbers  3150 non-null   int64  \n",
      " 8   Age Group                3150 non-null   int64  \n",
      " 9   Tariff Plan              3150 non-null   int64  \n",
      " 10  Status                   3150 non-null   int64  \n",
      " 11  Age                      3150 non-null   int64  \n",
      " 12  Customer Value           3150 non-null   float64\n",
      " 13  Churn                    3150 non-null   int64  \n",
      "dtypes: float64(1), int64(13)\n",
      "memory usage: 344.7 KB\n"
     ]
    },
    {
     "data": {
      "application/vnd.microsoft.datawrangler.viewer.v0+json": {
       "columns": [
        {
         "name": "index",
         "rawType": "object",
         "type": "string"
        },
        {
         "name": "Call  Failure",
         "rawType": "float64",
         "type": "float"
        },
        {
         "name": "Complains",
         "rawType": "float64",
         "type": "float"
        },
        {
         "name": "Subscription  Length",
         "rawType": "float64",
         "type": "float"
        },
        {
         "name": "Charge  Amount",
         "rawType": "float64",
         "type": "float"
        },
        {
         "name": "Seconds of Use",
         "rawType": "float64",
         "type": "float"
        },
        {
         "name": "Frequency of use",
         "rawType": "float64",
         "type": "float"
        },
        {
         "name": "Frequency of SMS",
         "rawType": "float64",
         "type": "float"
        },
        {
         "name": "Distinct Called Numbers",
         "rawType": "float64",
         "type": "float"
        },
        {
         "name": "Age Group",
         "rawType": "float64",
         "type": "float"
        },
        {
         "name": "Tariff Plan",
         "rawType": "float64",
         "type": "float"
        },
        {
         "name": "Status",
         "rawType": "float64",
         "type": "float"
        },
        {
         "name": "Age",
         "rawType": "float64",
         "type": "float"
        },
        {
         "name": "Customer Value",
         "rawType": "float64",
         "type": "float"
        },
        {
         "name": "Churn",
         "rawType": "float64",
         "type": "float"
        }
       ],
       "conversionMethod": "pd.DataFrame",
       "ref": "13d0fd1a-ad28-4b18-862f-84fec7180af5",
       "rows": [
        [
         "count",
         "3150.0",
         "3150.0",
         "3150.0",
         "3150.0",
         "3150.0",
         "3150.0",
         "3150.0",
         "3150.0",
         "3150.0",
         "3150.0",
         "3150.0",
         "3150.0",
         "3150.0",
         "3150.0"
        ],
        [
         "mean",
         "7.627936507936508",
         "0.07650793650793651",
         "32.54190476190476",
         "0.9428571428571428",
         "4472.459682539683",
         "69.46063492063492",
         "73.17492063492064",
         "23.50984126984127",
         "2.826031746031746",
         "1.0777777777777777",
         "1.2482539682539682",
         "30.998412698412697",
         "470.9729158730159",
         "0.15714285714285714"
        ],
        [
         "std",
         "7.263885566996692",
         "0.26585129165247456",
         "8.573482061327232",
         "1.5210718803527454",
         "4197.908686504334",
         "57.41330775063302",
         "112.23755969319922",
         "17.21733743799194",
         "0.8925551072658305",
         "0.26786409466734135",
         "0.43206851309493155",
         "8.831095499304965",
         "517.0154327987643",
         "0.3639931870784559"
        ],
        [
         "min",
         "0.0",
         "0.0",
         "3.0",
         "0.0",
         "0.0",
         "0.0",
         "0.0",
         "0.0",
         "1.0",
         "1.0",
         "1.0",
         "15.0",
         "0.0",
         "0.0"
        ],
        [
         "25%",
         "1.0",
         "0.0",
         "30.0",
         "0.0",
         "1391.25",
         "27.0",
         "6.0",
         "10.0",
         "2.0",
         "1.0",
         "1.0",
         "25.0",
         "113.80125",
         "0.0"
        ],
        [
         "50%",
         "6.0",
         "0.0",
         "35.0",
         "0.0",
         "2990.0",
         "54.0",
         "21.0",
         "21.0",
         "3.0",
         "1.0",
         "1.0",
         "30.0",
         "228.48",
         "0.0"
        ],
        [
         "75%",
         "12.0",
         "0.0",
         "38.0",
         "1.0",
         "6478.25",
         "95.0",
         "87.0",
         "34.0",
         "3.0",
         "1.0",
         "1.0",
         "30.0",
         "788.3887500000001",
         "0.0"
        ],
        [
         "max",
         "36.0",
         "1.0",
         "47.0",
         "10.0",
         "17090.0",
         "255.0",
         "522.0",
         "97.0",
         "5.0",
         "2.0",
         "2.0",
         "55.0",
         "2165.28",
         "1.0"
        ]
       ],
       "shape": {
        "columns": 14,
        "rows": 8
       }
      },
      "text/html": [
       "<div>\n",
       "<style scoped>\n",
       "    .dataframe tbody tr th:only-of-type {\n",
       "        vertical-align: middle;\n",
       "    }\n",
       "\n",
       "    .dataframe tbody tr th {\n",
       "        vertical-align: top;\n",
       "    }\n",
       "\n",
       "    .dataframe thead th {\n",
       "        text-align: right;\n",
       "    }\n",
       "</style>\n",
       "<table border=\"1\" class=\"dataframe\">\n",
       "  <thead>\n",
       "    <tr style=\"text-align: right;\">\n",
       "      <th></th>\n",
       "      <th>Call  Failure</th>\n",
       "      <th>Complains</th>\n",
       "      <th>Subscription  Length</th>\n",
       "      <th>Charge  Amount</th>\n",
       "      <th>Seconds of Use</th>\n",
       "      <th>Frequency of use</th>\n",
       "      <th>Frequency of SMS</th>\n",
       "      <th>Distinct Called Numbers</th>\n",
       "      <th>Age Group</th>\n",
       "      <th>Tariff Plan</th>\n",
       "      <th>Status</th>\n",
       "      <th>Age</th>\n",
       "      <th>Customer Value</th>\n",
       "      <th>Churn</th>\n",
       "    </tr>\n",
       "  </thead>\n",
       "  <tbody>\n",
       "    <tr>\n",
       "      <th>count</th>\n",
       "      <td>3150.000000</td>\n",
       "      <td>3150.000000</td>\n",
       "      <td>3150.000000</td>\n",
       "      <td>3150.000000</td>\n",
       "      <td>3150.000000</td>\n",
       "      <td>3150.000000</td>\n",
       "      <td>3150.000000</td>\n",
       "      <td>3150.000000</td>\n",
       "      <td>3150.000000</td>\n",
       "      <td>3150.000000</td>\n",
       "      <td>3150.000000</td>\n",
       "      <td>3150.000000</td>\n",
       "      <td>3150.000000</td>\n",
       "      <td>3150.000000</td>\n",
       "    </tr>\n",
       "    <tr>\n",
       "      <th>mean</th>\n",
       "      <td>7.627937</td>\n",
       "      <td>0.076508</td>\n",
       "      <td>32.541905</td>\n",
       "      <td>0.942857</td>\n",
       "      <td>4472.459683</td>\n",
       "      <td>69.460635</td>\n",
       "      <td>73.174921</td>\n",
       "      <td>23.509841</td>\n",
       "      <td>2.826032</td>\n",
       "      <td>1.077778</td>\n",
       "      <td>1.248254</td>\n",
       "      <td>30.998413</td>\n",
       "      <td>470.972916</td>\n",
       "      <td>0.157143</td>\n",
       "    </tr>\n",
       "    <tr>\n",
       "      <th>std</th>\n",
       "      <td>7.263886</td>\n",
       "      <td>0.265851</td>\n",
       "      <td>8.573482</td>\n",
       "      <td>1.521072</td>\n",
       "      <td>4197.908687</td>\n",
       "      <td>57.413308</td>\n",
       "      <td>112.237560</td>\n",
       "      <td>17.217337</td>\n",
       "      <td>0.892555</td>\n",
       "      <td>0.267864</td>\n",
       "      <td>0.432069</td>\n",
       "      <td>8.831095</td>\n",
       "      <td>517.015433</td>\n",
       "      <td>0.363993</td>\n",
       "    </tr>\n",
       "    <tr>\n",
       "      <th>min</th>\n",
       "      <td>0.000000</td>\n",
       "      <td>0.000000</td>\n",
       "      <td>3.000000</td>\n",
       "      <td>0.000000</td>\n",
       "      <td>0.000000</td>\n",
       "      <td>0.000000</td>\n",
       "      <td>0.000000</td>\n",
       "      <td>0.000000</td>\n",
       "      <td>1.000000</td>\n",
       "      <td>1.000000</td>\n",
       "      <td>1.000000</td>\n",
       "      <td>15.000000</td>\n",
       "      <td>0.000000</td>\n",
       "      <td>0.000000</td>\n",
       "    </tr>\n",
       "    <tr>\n",
       "      <th>25%</th>\n",
       "      <td>1.000000</td>\n",
       "      <td>0.000000</td>\n",
       "      <td>30.000000</td>\n",
       "      <td>0.000000</td>\n",
       "      <td>1391.250000</td>\n",
       "      <td>27.000000</td>\n",
       "      <td>6.000000</td>\n",
       "      <td>10.000000</td>\n",
       "      <td>2.000000</td>\n",
       "      <td>1.000000</td>\n",
       "      <td>1.000000</td>\n",
       "      <td>25.000000</td>\n",
       "      <td>113.801250</td>\n",
       "      <td>0.000000</td>\n",
       "    </tr>\n",
       "    <tr>\n",
       "      <th>50%</th>\n",
       "      <td>6.000000</td>\n",
       "      <td>0.000000</td>\n",
       "      <td>35.000000</td>\n",
       "      <td>0.000000</td>\n",
       "      <td>2990.000000</td>\n",
       "      <td>54.000000</td>\n",
       "      <td>21.000000</td>\n",
       "      <td>21.000000</td>\n",
       "      <td>3.000000</td>\n",
       "      <td>1.000000</td>\n",
       "      <td>1.000000</td>\n",
       "      <td>30.000000</td>\n",
       "      <td>228.480000</td>\n",
       "      <td>0.000000</td>\n",
       "    </tr>\n",
       "    <tr>\n",
       "      <th>75%</th>\n",
       "      <td>12.000000</td>\n",
       "      <td>0.000000</td>\n",
       "      <td>38.000000</td>\n",
       "      <td>1.000000</td>\n",
       "      <td>6478.250000</td>\n",
       "      <td>95.000000</td>\n",
       "      <td>87.000000</td>\n",
       "      <td>34.000000</td>\n",
       "      <td>3.000000</td>\n",
       "      <td>1.000000</td>\n",
       "      <td>1.000000</td>\n",
       "      <td>30.000000</td>\n",
       "      <td>788.388750</td>\n",
       "      <td>0.000000</td>\n",
       "    </tr>\n",
       "    <tr>\n",
       "      <th>max</th>\n",
       "      <td>36.000000</td>\n",
       "      <td>1.000000</td>\n",
       "      <td>47.000000</td>\n",
       "      <td>10.000000</td>\n",
       "      <td>17090.000000</td>\n",
       "      <td>255.000000</td>\n",
       "      <td>522.000000</td>\n",
       "      <td>97.000000</td>\n",
       "      <td>5.000000</td>\n",
       "      <td>2.000000</td>\n",
       "      <td>2.000000</td>\n",
       "      <td>55.000000</td>\n",
       "      <td>2165.280000</td>\n",
       "      <td>1.000000</td>\n",
       "    </tr>\n",
       "  </tbody>\n",
       "</table>\n",
       "</div>"
      ],
      "text/plain": [
       "       Call  Failure    Complains  Subscription  Length  Charge  Amount  \\\n",
       "count    3150.000000  3150.000000           3150.000000     3150.000000   \n",
       "mean        7.627937     0.076508             32.541905        0.942857   \n",
       "std         7.263886     0.265851              8.573482        1.521072   \n",
       "min         0.000000     0.000000              3.000000        0.000000   \n",
       "25%         1.000000     0.000000             30.000000        0.000000   \n",
       "50%         6.000000     0.000000             35.000000        0.000000   \n",
       "75%        12.000000     0.000000             38.000000        1.000000   \n",
       "max        36.000000     1.000000             47.000000       10.000000   \n",
       "\n",
       "       Seconds of Use  Frequency of use  Frequency of SMS  \\\n",
       "count     3150.000000       3150.000000       3150.000000   \n",
       "mean      4472.459683         69.460635         73.174921   \n",
       "std       4197.908687         57.413308        112.237560   \n",
       "min          0.000000          0.000000          0.000000   \n",
       "25%       1391.250000         27.000000          6.000000   \n",
       "50%       2990.000000         54.000000         21.000000   \n",
       "75%       6478.250000         95.000000         87.000000   \n",
       "max      17090.000000        255.000000        522.000000   \n",
       "\n",
       "       Distinct Called Numbers    Age Group  Tariff Plan       Status  \\\n",
       "count              3150.000000  3150.000000  3150.000000  3150.000000   \n",
       "mean                 23.509841     2.826032     1.077778     1.248254   \n",
       "std                  17.217337     0.892555     0.267864     0.432069   \n",
       "min                   0.000000     1.000000     1.000000     1.000000   \n",
       "25%                  10.000000     2.000000     1.000000     1.000000   \n",
       "50%                  21.000000     3.000000     1.000000     1.000000   \n",
       "75%                  34.000000     3.000000     1.000000     1.000000   \n",
       "max                  97.000000     5.000000     2.000000     2.000000   \n",
       "\n",
       "               Age  Customer Value        Churn  \n",
       "count  3150.000000     3150.000000  3150.000000  \n",
       "mean     30.998413      470.972916     0.157143  \n",
       "std       8.831095      517.015433     0.363993  \n",
       "min      15.000000        0.000000     0.000000  \n",
       "25%      25.000000      113.801250     0.000000  \n",
       "50%      30.000000      228.480000     0.000000  \n",
       "75%      30.000000      788.388750     0.000000  \n",
       "max      55.000000     2165.280000     1.000000  "
      ]
     },
     "execution_count": 37,
     "metadata": {},
     "output_type": "execute_result"
    }
   ],
   "source": [
    "df = pd.read_csv(\"Customer Churn.csv\")\n",
    "\n",
    "df.info()\n",
    "df.describe()"
   ]
  },
  {
   "cell_type": "markdown",
   "id": "8b06e30a",
   "metadata": {},
   "source": [
    "CHECK MISSING VALUE"
   ]
  },
  {
   "cell_type": "code",
   "execution_count": 38,
   "id": "5e84c288",
   "metadata": {},
   "outputs": [
    {
     "data": {
      "text/plain": [
       "Call  Failure              0\n",
       "Complains                  0\n",
       "Subscription  Length       0\n",
       "Charge  Amount             0\n",
       "Seconds of Use             0\n",
       "Frequency of use           0\n",
       "Frequency of SMS           0\n",
       "Distinct Called Numbers    0\n",
       "Age Group                  0\n",
       "Tariff Plan                0\n",
       "Status                     0\n",
       "Age                        0\n",
       "Customer Value             0\n",
       "Churn                      0\n",
       "dtype: int64"
      ]
     },
     "execution_count": 38,
     "metadata": {},
     "output_type": "execute_result"
    }
   ],
   "source": [
    "df.isnull().sum()"
   ]
  },
  {
   "cell_type": "markdown",
   "id": "6ccfd2c5",
   "metadata": {},
   "source": [
    "Outlier (điểm ngoại lai) là những điểm dữ liệu nằm xa hẳn với phần lớn dữ liệu còn lại, khác biệt rõ rệt so với xu hướng chung của tập dữ liệu.\n",
    "\n",
    "Outlier có thể là dữ liệu sai lệch, lỗi nhập liệu, hoặc điểm bất thường.\n",
    "\n",
    "Nếu không phát hiện và xử lý, outlier có thể làm sai lệch mô hình, giảm chất lượng phân tích."
   ]
  },
  {
   "cell_type": "code",
   "execution_count": 39,
   "id": "56a2d5e5",
   "metadata": {},
   "outputs": [
    {
     "data": {
      "image/png": "[encoded data removed]",
      "text/plain": [
       "<Figure size 600x200 with 1 Axes>"
      ]
     },
     "metadata": {},
     "output_type": "display_data"
    },
    {
     "data": {
      "image/png": "[encoded data removed]",
      "text/plain": [
       "<Figure size 600x200 with 1 Axes>"
      ]
     },
     "metadata": {},
     "output_type": "display_data"
    },
    {
     "data": {
      "image/png": "[encoded data removed]",
      "text/plain": [
       "<Figure size 600x200 with 1 Axes>"
      ]
     },
     "metadata": {},
     "output_type": "display_data"
    },
    {
     "data": {
      "image/png": "[encoded data removed]",
      "text/plain": [
       "<Figure size 600x200 with 1 Axes>"
      ]
     },
     "metadata": {},
     "output_type": "display_data"
    },
    {
     "data": {
      "image/png": "[encoded data removed]",
      "text/plain": [
       "<Figure size 600x200 with 1 Axes>"
      ]
     },
     "metadata": {},
     "output_type": "display_data"
    },
    {
     "data": {
      "image/png": "[encoded data removed]",
      "text/plain": [
       "<Figure size 600x200 with 1 Axes>"
      ]
     },
     "metadata": {},
     "output_type": "display_data"
    },
    {
     "data": {
      "image/png": "[encoded data removed]",
      "text/plain": [
       "<Figure size 600x200 with 1 Axes>"
      ]
     },
     "metadata": {},
     "output_type": "display_data"
    },
    {
     "data": {
      "image/png": "[encoded data removed]",
      "text/plain": [
       "<Figure size 600x200 with 1 Axes>"
      ]
     },
     "metadata": {},
     "output_type": "display_data"
    },
    {
     "data": {
      "image/png": "[encoded data removed]",
      "text/plain": [
       "<Figure size 600x200 with 1 Axes>"
      ]
     },
     "metadata": {},
     "output_type": "display_data"
    },
    {
     "data": {
      "image/png": "[encoded data removed]",
      "text/plain": [
       "<Figure size 600x200 with 1 Axes>"
      ]
     },
     "metadata": {},
     "output_type": "display_data"
    },
    {
     "data": {
      "image/png": "[encoded data removed]",
      "text/plain": [
       "<Figure size 600x200 with 1 Axes>"
      ]
     },
     "metadata": {},
     "output_type": "display_data"
    },
    {
     "data": {
      "image/png": "[encoded data removed]",
      "text/plain": [
       "<Figure size 600x200 with 1 Axes>"
      ]
     },
     "metadata": {},
     "output_type": "display_data"
    },
    {
     "data": {
      "image/png": "[encoded data removed]",
      "text/plain": [
       "<Figure size 600x200 with 1 Axes>"
      ]
     },
     "metadata": {},
     "output_type": "display_data"
    },
    {
     "data": {
      "image/png": "[encoded data removed]",
      "text/plain": [
       "<Figure size 600x200 with 1 Axes>"
      ]
     },
     "metadata": {},
     "output_type": "display_data"
    }
   ],
   "source": [
    "import matplotlib.pyplot as plt\n",
    "import seaborn as sns\n",
    "\n",
    "# Vẽ boxplot cho từng biến số numeric\n",
    "numeric_cols = df.select_dtypes(include=['int64', 'float64']).columns\n",
    "\n",
    "for col in numeric_cols:\n",
    "    plt.figure(figsize=(6, 2))\n",
    "    sns.boxplot(x=df[col])\n",
    "    plt.title(f'Boxplot of {col}')\n",
    "    plt.show()"
   ]
  },
  {
   "cell_type": "markdown",
   "id": "068fd225",
   "metadata": {},
   "source": [
    "1. Call Failures\n",
    "Phân phối lệch phải, nhiều giá trị thấp.\n",
    "\n",
    "Có một vài điểm outlier phía trên (các khách hàng có số lần cuộc gọi bị rớt rất cao, ví dụ trên 25).\n",
    "\n",
    "Ý nghĩa: Một số khách hàng có sự cố gọi rất nhiều so với phần còn lại.\n",
    "\n",
    "2. Complains\n",
    "Biến nhị phân (0 hoặc 1), không có outlier.\n",
    "\n",
    "Giá trị 1 phản ánh khách hàng đã phàn nàn, 0 là không.\n",
    "\n",
    "3. Subscription Length\n",
    "Phân phối khá đều, không có outlier rõ ràng.\n",
    "\n",
    "Thời gian thuê bao dao động trong khoảng 3-47 tháng.\n",
    "\n",
    "4. Charge Amount\n",
    "Giá trị ordinal từ 0 đến 9.\n",
    "\n",
    "Không có outlier vì đây là dữ liệu rời rạc theo mức độ phí.\n",
    "\n",
    "5. Seconds of Use\n",
    "Phân phối rất lệch phải với nhiều outlier lớn (có khách hàng gọi rất nhiều giây).\n",
    "\n",
    "Khoảng giá trị outlier khá rộng, từ vài nghìn đến hơn 15,000 giây.\n",
    "\n",
    "Cần cân nhắc xử lý nếu muốn giảm ảnh hưởng outlier trong phân tích.\n",
    "\n",
    "6. Frequency of Use\n",
    "Phân phối tương tự Seconds of Use, có nhiều outlier với số lượng cuộc gọi rất cao (trên 200 cuộc).\n",
    "\n",
    "Những khách hàng gọi quá nhiều có thể là nhóm đặc biệt hoặc lỗi dữ liệu.\n",
    "\n",
    "7. Frequency of SMS\n",
    "Có một số outlier lớn, số lượng tin nhắn gửi lên đến hơn 500.\n",
    "\n",
    "Tuy nhiên đa số khách hàng gửi ít tin nhắn (0–100).\n",
    "\n",
    "8. Distinct Called Numbers\n",
    "Outlier khá rõ, có khách hàng gọi tới hàng chục đến gần 100 số khác nhau.\n",
    "\n",
    "Phản ánh sự đa dạng trong hoạt động gọi.\n",
    "\n",
    "9. Age Group\n",
    "Biến rời rạc (1–5), không có outlier.\n",
    "\n",
    "10. Tariff Plan & Status\n",
    "Biến nhị phân, không outlier.\n",
    "\n",
    "11. Age\n",
    "Không có outlier lớn, phân phối từ 15 đến 55 tuổi.\n",
    "\n",
    "Có thể có vài điểm cao hoặc thấp gần biên nhưng trong giới hạn hợp lý.\n",
    "\n",
    "12. Customer Value\n",
    "Phân phối rất lệch phải, nhiều outlier lớn với giá trị lên tới hơn 2,000.\n",
    "\n",
    "Các khách hàng có giá trị quá cao nên được xem xét kỹ về ảnh hưởng."
   ]
  },
  {
   "cell_type": "markdown",
   "id": "0a4b8331",
   "metadata": {},
   "source": [
    "--------------------"
   ]
  },
  {
   "cell_type": "markdown",
   "id": "f5d0a496",
   "metadata": {},
   "source": [
    "1. Loại bỏ outlier (Remove)\n",
    "Cách này đơn giản nhất: loại bỏ toàn bộ các điểm dữ liệu bị xác định là outlier.\n",
    "\n",
    "Ưu điểm: Giúp mô hình tập trung vào dữ liệu “điển hình”.\n",
    "\n",
    "Nhược điểm: Mất dữ liệu, có thể mất thông tin quý giá nếu outlier là dữ liệu thật.\n",
    "\n",
    "2. Thay thế outlier (Cap or Winsorizing)\n",
    "Thay outlier bằng giá trị biên gần nhất (ví dụ Q1 - 1.5IQR hoặc Q3 + 1.5IQR).\n",
    "\n",
    "Hoặc thay bằng giá trị trung vị (median).\n",
    "\n",
    "Ưu điểm: Giữ lại số lượng mẫu, giảm ảnh hưởng cực đoan.\n",
    "\n",
    "Nhược điểm: Có thể làm mất độ phân tán dữ liệu.\n",
    "\n",
    "3. Giữ nguyên (Keep)\n",
    "Nếu outlier có ý nghĩa đặc biệt (khách hàng VIP, hành vi ngoại lệ thật sự), giữ nguyên.\n",
    "\n",
    "Ưu điểm: Không làm mất thông tin.\n",
    "\n",
    "Nhược điểm: Mô hình có thể bị ảnh hưởng hoặc sai lệch."
   ]
  },
  {
   "cell_type": "markdown",
   "id": "4dd3f558",
   "metadata": {},
   "source": [
    "--------------"
   ]
  },
  {
   "cell_type": "markdown",
   "id": "27c8ee79",
   "metadata": {},
   "source": [
    "CHỌN GIỮ NGUYÊN OUTLIER"
   ]
  },
  {
   "cell_type": "markdown",
   "id": "533ebe84",
   "metadata": {},
   "source": [
    "-----------"
   ]
  },
  {
   "cell_type": "markdown",
   "id": "73b76976",
   "metadata": {},
   "source": [
    "LÀM SẠCH CỘT"
   ]
  },
  {
   "cell_type": "code",
   "execution_count": 40,
   "id": "cb0a857d",
   "metadata": {},
   "outputs": [
    {
     "data": {
      "application/vnd.microsoft.datawrangler.viewer.v0+json": {
       "columns": [
        {
         "name": "index",
         "rawType": "int64",
         "type": "integer"
        },
        {
         "name": "call__failure",
         "rawType": "int64",
         "type": "integer"
        },
        {
         "name": "complains",
         "rawType": "int64",
         "type": "integer"
        },
        {
         "name": "subscription__length",
         "rawType": "int64",
         "type": "integer"
        },
        {
         "name": "charge__amount",
         "rawType": "int64",
         "type": "integer"
        },
        {
         "name": "seconds_of_use",
         "rawType": "int64",
         "type": "integer"
        },
        {
         "name": "frequency_of_use",
         "rawType": "int64",
         "type": "integer"
        },
        {
         "name": "frequency_of_sms",
         "rawType": "int64",
         "type": "integer"
        },
        {
         "name": "distinct_called_numbers",
         "rawType": "int64",
         "type": "integer"
        },
        {
         "name": "age_group",
         "rawType": "int64",
         "type": "integer"
        },
        {
         "name": "tariff_plan",
         "rawType": "int64",
         "type": "integer"
        },
        {
         "name": "status",
         "rawType": "int64",
         "type": "integer"
        },
        {
         "name": "age",
         "rawType": "int64",
         "type": "integer"
        },
        {
         "name": "customer_value",
         "rawType": "float64",
         "type": "float"
        },
        {
         "name": "churn",
         "rawType": "int64",
         "type": "integer"
        }
       ],
       "conversionMethod": "pd.DataFrame",
       "ref": "39f1b55e-07aa-4c36-b421-6c6d91249745",
       "rows": [
        [
         "0",
         "8",
         "0",
         "38",
         "0",
         "4370",
         "71",
         "5",
         "17",
         "3",
         "1",
         "1",
         "30",
         "197.64",
         "0"
        ],
        [
         "1",
         "0",
         "0",
         "39",
         "0",
         "318",
         "5",
         "7",
         "4",
         "2",
         "1",
         "2",
         "25",
         "46.035",
         "0"
        ],
        [
         "2",
         "10",
         "0",
         "37",
         "0",
         "2453",
         "60",
         "359",
         "24",
         "3",
         "1",
         "1",
         "30",
         "1536.52",
         "0"
        ],
        [
         "3",
         "10",
         "0",
         "38",
         "0",
         "4198",
         "66",
         "1",
         "35",
         "1",
         "1",
         "1",
         "15",
         "240.02",
         "0"
        ],
        [
         "4",
         "3",
         "0",
         "38",
         "0",
         "2393",
         "58",
         "2",
         "33",
         "1",
         "1",
         "1",
         "15",
         "145.805",
         "0"
        ]
       ],
       "shape": {
        "columns": 14,
        "rows": 5
       }
      },
      "text/html": [
       "<div>\n",
       "<style scoped>\n",
       "    .dataframe tbody tr th:only-of-type {\n",
       "        vertical-align: middle;\n",
       "    }\n",
       "\n",
       "    .dataframe tbody tr th {\n",
       "        vertical-align: top;\n",
       "    }\n",
       "\n",
       "    .dataframe thead th {\n",
       "        text-align: right;\n",
       "    }\n",
       "</style>\n",
       "<table border=\"1\" class=\"dataframe\">\n",
       "  <thead>\n",
       "    <tr style=\"text-align: right;\">\n",
       "      <th></th>\n",
       "      <th>call__failure</th>\n",
       "      <th>complains</th>\n",
       "      <th>subscription__length</th>\n",
       "      <th>charge__amount</th>\n",
       "      <th>seconds_of_use</th>\n",
       "      <th>frequency_of_use</th>\n",
       "      <th>frequency_of_sms</th>\n",
       "      <th>distinct_called_numbers</th>\n",
       "      <th>age_group</th>\n",
       "      <th>tariff_plan</th>\n",
       "      <th>status</th>\n",
       "      <th>age</th>\n",
       "      <th>customer_value</th>\n",
       "      <th>churn</th>\n",
       "    </tr>\n",
       "  </thead>\n",
       "  <tbody>\n",
       "    <tr>\n",
       "      <th>0</th>\n",
       "      <td>8</td>\n",
       "      <td>0</td>\n",
       "      <td>38</td>\n",
       "      <td>0</td>\n",
       "      <td>4370</td>\n",
       "      <td>71</td>\n",
       "      <td>5</td>\n",
       "      <td>17</td>\n",
       "      <td>3</td>\n",
       "      <td>1</td>\n",
       "      <td>1</td>\n",
       "      <td>30</td>\n",
       "      <td>197.640</td>\n",
       "      <td>0</td>\n",
       "    </tr>\n",
       "    <tr>\n",
       "      <th>1</th>\n",
       "      <td>0</td>\n",
       "      <td>0</td>\n",
       "      <td>39</td>\n",
       "      <td>0</td>\n",
       "      <td>318</td>\n",
       "      <td>5</td>\n",
       "      <td>7</td>\n",
       "      <td>4</td>\n",
       "      <td>2</td>\n",
       "      <td>1</td>\n",
       "      <td>2</td>\n",
       "      <td>25</td>\n",
       "      <td>46.035</td>\n",
       "      <td>0</td>\n",
       "    </tr>\n",
       "    <tr>\n",
       "      <th>2</th>\n",
       "      <td>10</td>\n",
       "      <td>0</td>\n",
       "      <td>37</td>\n",
       "      <td>0</td>\n",
       "      <td>2453</td>\n",
       "      <td>60</td>\n",
       "      <td>359</td>\n",
       "      <td>24</td>\n",
       "      <td>3</td>\n",
       "      <td>1</td>\n",
       "      <td>1</td>\n",
       "      <td>30</td>\n",
       "      <td>1536.520</td>\n",
       "      <td>0</td>\n",
       "    </tr>\n",
       "    <tr>\n",
       "      <th>3</th>\n",
       "      <td>10</td>\n",
       "      <td>0</td>\n",
       "      <td>38</td>\n",
       "      <td>0</td>\n",
       "      <td>4198</td>\n",
       "      <td>66</td>\n",
       "      <td>1</td>\n",
       "      <td>35</td>\n",
       "      <td>1</td>\n",
       "      <td>1</td>\n",
       "      <td>1</td>\n",
       "      <td>15</td>\n",
       "      <td>240.020</td>\n",
       "      <td>0</td>\n",
       "    </tr>\n",
       "    <tr>\n",
       "      <th>4</th>\n",
       "      <td>3</td>\n",
       "      <td>0</td>\n",
       "      <td>38</td>\n",
       "      <td>0</td>\n",
       "      <td>2393</td>\n",
       "      <td>58</td>\n",
       "      <td>2</td>\n",
       "      <td>33</td>\n",
       "      <td>1</td>\n",
       "      <td>1</td>\n",
       "      <td>1</td>\n",
       "      <td>15</td>\n",
       "      <td>145.805</td>\n",
       "      <td>0</td>\n",
       "    </tr>\n",
       "  </tbody>\n",
       "</table>\n",
       "</div>"
      ],
      "text/plain": [
       "   call__failure  complains  subscription__length  charge__amount  \\\n",
       "0              8          0                    38               0   \n",
       "1              0          0                    39               0   \n",
       "2             10          0                    37               0   \n",
       "3             10          0                    38               0   \n",
       "4              3          0                    38               0   \n",
       "\n",
       "   seconds_of_use  frequency_of_use  frequency_of_sms  \\\n",
       "0            4370                71                 5   \n",
       "1             318                 5                 7   \n",
       "2            2453                60               359   \n",
       "3            4198                66                 1   \n",
       "4            2393                58                 2   \n",
       "\n",
       "   distinct_called_numbers  age_group  tariff_plan  status  age  \\\n",
       "0                       17          3            1       1   30   \n",
       "1                        4          2            1       2   25   \n",
       "2                       24          3            1       1   30   \n",
       "3                       35          1            1       1   15   \n",
       "4                       33          1            1       1   15   \n",
       "\n",
       "   customer_value  churn  \n",
       "0         197.640      0  \n",
       "1          46.035      0  \n",
       "2        1536.520      0  \n",
       "3         240.020      0  \n",
       "4         145.805      0  "
      ]
     },
     "execution_count": 40,
     "metadata": {},
     "output_type": "execute_result"
    }
   ],
   "source": [
    "# Xóa khoảng trắng đầu cuối\n",
    "df.columns = df.columns.str.strip()\n",
    "\n",
    "# Thay khoảng trắng bằng dấu gạch dưới\n",
    "df.columns = df.columns.str.replace(' ', '_')\n",
    "\n",
    "# Viết thường tên cột (tuỳ chọn)\n",
    "df.columns = df.columns.str.lower()\n",
    "\n",
    "df.head()"
   ]
  },
  {
   "cell_type": "code",
   "execution_count": 41,
   "id": "e548cf60",
   "metadata": {},
   "outputs": [],
   "source": [
    "df.to_csv(\"Customer Churn_cleaning.csv\", index = False)"
   ]
  }
 ],
 "metadata": {
  "kernelspec": {
   "display_name": "Python 3",
   "language": "python",
   "name": "python3"
  },
  "language_info": {
   "codemirror_mode": {
    "name": "ipython",
    "version": 3
   },
   "file_extension": ".py",
   "mimetype": "text/x-python",
   "name": "python",
   "nbconvert_exporter": "python",
   "pygments_lexer": "ipython3",
   "version": "3.12.1"
  }
 },
 "nbformat": 4,
 "nbformat_minor": 5
}
