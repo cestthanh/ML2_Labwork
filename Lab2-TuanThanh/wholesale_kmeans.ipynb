{
 "cells": [
  {
   "cell_type": "markdown",
   "id": "6d6cf7f4",
   "metadata": {},
   "source": [
    "\n",
    "# 🧪 K-means Clustering on Wholesale Customers Dataset\n",
    "\n",
    "This notebook demonstrates how to apply **K-means clustering** to the **UCI Wholesale Customers** dataset.\n",
    "\n",
    "## 📋 Steps:\n",
    "- Load and preprocess the data\n",
    "- Apply K-means clustering with different k values\n",
    "- Evaluate using **Silhouette Score** and **Davies-Bouldin Index**\n",
    "- Visualize clusters using **PCA**\n"
   ]
  },
  {
   "cell_type": "code",
   "execution_count": null,
   "id": "dc9c1902",
   "metadata": {},
   "outputs": [],
   "source": [
    "\n",
    "import pandas as pd\n",
    "from sklearn.preprocessing import MinMaxScaler\n",
    "from sklearn.cluster import KMeans\n",
    "from sklearn.decomposition import PCA\n",
    "from sklearn.metrics import silhouette_score, davies_bouldin_score\n",
    "import matplotlib.pyplot as plt\n",
    "\n",
    "# Load dataset từ file CSV trong cùng thư mục\n",
    "df = pd.read_csv(\"Wholesale customers data.csv\")\n",
    "\n",
    "# Drop cột Region và Channel vì chúng là categorical (ordinal) không cần thiết\n",
    "X = df.drop(['Region', 'Channel'], axis=1)\n",
    "\n",
    "# Normalize dữ liệu về khoảng [0,1]\n",
    "scaler = MinMaxScaler()\n",
    "X_scaled = scaler.fit_transform(X)\n"
   ]
  },
  {
   "cell_type": "code",
   "execution_count": null,
   "id": "023002bb",
   "metadata": {},
   "outputs": [],
   "source": [
    "\n",
    "# Tính silhouette scores cho k = 2 đến 10\n",
    "silhouette_scores = []\n",
    "for k in range(2, 11):\n",
    "    kmeans = KMeans(n_clusters=k, random_state=42)\n",
    "    labels = kmeans.fit_predict(X_scaled)\n",
    "    score = silhouette_score(X_scaled, labels)\n",
    "    silhouette_scores.append(score)\n",
    "\n",
    "# Vẽ biểu đồ silhouette\n",
    "plt.plot(range(2, 11), silhouette_scores, marker='o')\n",
    "plt.title(\"Silhouette Score vs Number of Clusters (k)\")\n",
    "plt.xlabel(\"k\")\n",
    "plt.ylabel(\"Silhouette Score\")\n",
    "plt.grid(True)\n",
    "plt.show()\n"
   ]
  },
  {
   "cell_type": "code",
   "execution_count": null,
   "id": "6f4d7235",
   "metadata": {},
   "outputs": [],
   "source": [
    "\n",
    "# Chọn k tốt nhất\n",
    "best_k = silhouette_scores.index(max(silhouette_scores)) + 2\n",
    "print(f\"Best k based on silhouette score: {best_k}\")\n",
    "\n",
    "# Fit lại với best_k\n",
    "kmeans_final = KMeans(n_clusters=best_k, random_state=42)\n",
    "labels_final = kmeans_final.fit_predict(X_scaled)\n",
    "\n",
    "# PCA để giảm xuống 2D\n",
    "pca = PCA(n_components=2)\n",
    "X_pca = pca.fit_transform(X_scaled)\n",
    "\n",
    "# Vẽ scatter plot\n",
    "plt.figure(figsize=(8,6))\n",
    "plt.scatter(X_pca[:, 0], X_pca[:, 1], c=labels_final, cmap='viridis')\n",
    "plt.title(f\"K-means Clustering with k={best_k}\")\n",
    "plt.xlabel(\"PCA Component 1\")\n",
    "plt.ylabel(\"PCA Component 2\")\n",
    "plt.grid(True)\n",
    "plt.show()\n"
   ]
  },
  {
   "cell_type": "code",
   "execution_count": null,
   "id": "cf457b39",
   "metadata": {},
   "outputs": [],
   "source": [
    "\n",
    "# Tính Davies-Bouldin Index\n",
    "db_score = davies_bouldin_score(X_scaled, labels_final)\n",
    "print(f\"Davies-Bouldin Index: {db_score:.2f}\")\n"
   ]
  }
 ],
 "metadata": {},
 "nbformat": 4,
 "nbformat_minor": 5
}
